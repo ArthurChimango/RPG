{
  "nbformat": 4,
  "nbformat_minor": 0,
  "metadata": {
    "colab": {
      "provenance": []
    },
    "kernelspec": {
      "name": "python3",
      "display_name": "Python 3"
    },
    "language_info": {
      "name": "python"
    }
  },
  "cells": [
    {
      "cell_type": "markdown",
      "source": [
        "Criador de Personagem de RPG"
      ],
      "metadata": {
        "id": "78UvinocCNow"
      }
    },
    {
      "cell_type": "code",
      "source": [
        "import random\n",
        "\n",
        "# Classes e suas habilidades\n",
        "classes = {\n",
        "    \"Guerreiro\": [\"Ataque Poderoso\", \"Bloqueio\", \"Golpe Duplo\"],\n",
        "    \"Mago\": [\"Bola de Fogo\", \"Teletransporte\", \"Escudo Mágico\"],\n",
        "    \"Ladino\": [\"Ataque Furtivo\", \"Desarmar Armadilhas\", \"Evasão\"],\n",
        "    \"Clérigo\": [\"Cura\", \"Proteção Divina\", \"Ressurreição\"],\n",
        "    \"Ranger\": [\"Tiro Preciso\", \"Rastrear\", \"Companheiro Animal\"],\n",
        "    \"Alquimista\": [\"Bomba Ácida\", \"Poção de Cura\", \"Transmutação\"],\n",
        "    \"Necromante\": [\"Invocar Esqueleto\", \"Drenar Vida\", \"Explosão Cadavérica\"],\n",
        "    \"Bardo\": [\"Canção de Cura\", \"Encantamento\", \"Grito de Guerra\"],\n",
        "    \"Paladino\": [\"Golpe Justo\", \"Aura de Coragem\", \"Imposição das Mãos\"],\n",
        "    \"Druida\": [\"Transformação Animal\", \"Controle Climático\", \"Cura Natural\"],\n",
        "    \"Samurai\": [\"Corte Rápido\", \"Meditação\", \"Defesa Impecável\"],\n",
        "    \"Psíquico\": [\"Telecinese\", \"Leitura de Mentes\", \"Explosão Psíquica\"],\n",
        "    \"Caçador de Recompensas\": [\"Rastrear\", \"Rede de Captura\", \"Disfarce\"],\n",
        "    \"Pirata\": [\"Ataque de Abordagem\", \"Grito de Motim\", \"Rastreio Marítimo\"],\n",
        "    \"Monge\": [\"Punho de Ferro\", \"Passos Silenciosos\", \"Cura Interior\"],\n",
        "    \"Inventor\": [\"Torreta Automática\", \"Arma Especial\", \"Robô Assistente\"],\n",
        "    \"Ilusionista\": [\"Duplicata Ilusória\", \"Invisibilidade\", \"Labirinto Mental\"],\n",
        "    \"Elementalista\": [\"Chama Ardente\", \"Muralha de Terra\", \"Tempestade Elétrica\"]\n",
        "}\n",
        "\n",
        "# Definindo atributos\n",
        "atributos = [\"Força\", \"Destreza\", \"Inteligência\", \"Constituição\", \"Carisma\", \"Sabedoria\"]\n",
        "\n",
        "# Lista de nomes, coloquei nomes medievais\n",
        "nomes_masculinos = [\"Aric\", \"Baldric\", \"Bayard\", \"Cedric\", \"Conan\", \"Dagmar\", \"Edric\", \"Eogan\", \"Gareth\", \"Gideon\", \"Cassius\", \"Dorian\", \"Eldrin\", \"Finnian\", \"Gareth\", \"Gideon\", \"Idris\", \"Jasper\", \"Eamon\", \"Felix\", \"Finnian\", \"Gareth\", \"Gideon\", \"Haldir\", \"Aiden\", \"Baldwin\", \"Caleb\", \"Damian\", \"Edric\", \"Felix\", \"Gareth\", \"Gideon\", \"Haldir\", \"Idris\"]\n",
        "nomes_femininos = [\"Aella\", \"Akela\", \"Alana\", \"Alessia\", \"Althea\", \"Alyx\", \"Anya\", \"Astrid\", \"Aurora\", \"Beatrix\", \"Cassandra\", \"Cordelia\", \"Elara\", \"Freya\", \"Ginevra\", \"Helena\", \"Ilyana\", \"Isolde\", \"Seraphina\", \"Brianna\", \"Eira\", \"Fiona\", \"Gwen\", \"Isolde\", \"Jillian\", \"Katya\", \"Leila\", \"Lyla\", \"Morgana\", \"Adelaide\", \"Bernadette\", \"Cecilia\", \"Eleanor\", \"Fiona\", \"Grace\", \"Helena\", \"Isabella\", \"Judith\", \"Katherine\"]\n",
        "\n",
        "def distribuir_atributos(atributos, total_pontos):\n",
        "    pontos = [0] * len(atributos)\n",
        "    for _ in range(total_pontos):\n",
        "        pontos[random.randint(0, len(atributos) - 1)] += 1\n",
        "    return {atributo: valor for atributo, valor in zip(atributos, pontos)}\n",
        "\n",
        "def gerar_personagem_aleatorio(genero):\n",
        "    # Selecionando um nome aleatório com base no gênero\n",
        "    if genero.lower() == \"masculino\":\n",
        "        nome = random.choice(nomes_masculinos)\n",
        "    elif genero.lower() == \"feminino\":\n",
        "        nome = random.choice(nomes_femininos)\n",
        "    else:\n",
        "        raise ValueError(\"Gênero inválido. Escolha 'masculino' ou 'feminino'.\")\n",
        "\n",
        "    # Selecionando uma classe aleatória\n",
        "    classe = random.choice(list(classes.keys()))\n",
        "\n",
        "    # Gerando atributos com soma total de 18\n",
        "    personagem_atributos = distribuir_atributos(atributos, 18)\n",
        "\n",
        "    # Selecionando habilidades da classe\n",
        "    habilidades = random.sample(classes[classe], 3)\n",
        "\n",
        "    personagem = {\n",
        "        \"Nome\": nome,\n",
        "        \"Classe\": classe,\n",
        "        \"Atributos\": personagem_atributos,\n",
        "        \"Habilidades\": habilidades\n",
        "    }\n",
        "\n",
        "    return personagem\n",
        "\n",
        "def criar_personagem_personalizado():\n",
        "    # Selecionando o nome do personagem\n",
        "    nome = input(\"Digite o nome do personagem: \")\n",
        "\n",
        "    # Distribuindo pontos nos atributos\n",
        "    pontos_restantes = 18\n",
        "    personagem_atributos = {}\n",
        "\n",
        "    while True:\n",
        "        for atributo in atributos:\n",
        "            while True:\n",
        "                pontos = int(input(f\"Quantos pontos você quer para {atributo}? (Restantes: {pontos_restantes}): \"))\n",
        "                if 0 <= pontos <= pontos_restantes:\n",
        "                    personagem_atributos[atributo] = pontos\n",
        "                    pontos_restantes -= pontos\n",
        "                    break\n",
        "                else:\n",
        "                    print(\"Você não tem esses pontos. Tente novamente.\")\n",
        "\n",
        "        # Exibindo os atributos escolhidos\n",
        "        print()\n",
        "        print(\"Atributos escolhidos:\")\n",
        "        for atributo, valor in personagem_atributos.items():\n",
        "            print(f\"  {atributo}: {valor}\")\n",
        "\n",
        "        refazer = input(\"Deseja refazer a distribuição de pontos nos atributos? (s/n): \")\n",
        "        if refazer.lower() != \"s\" or \"sim\" or \"Sim\":\n",
        "            break\n",
        "        else:\n",
        "            pontos_restantes = 18\n",
        "            personagem_atributos = {}\n",
        "\n",
        "\n",
        "    # Selecionando a classe do personagem\n",
        "    print(\"Classes disponíveis: \", \", \".join(classes.keys()))\n",
        "    print()\n",
        "    while True:\n",
        "        classe = input(\"Escolha a classe do personagem: \")\n",
        "        classe = classe.capitalize()  # Capitaliza a primeira letra\n",
        "        if classe in classes:\n",
        "            break\n",
        "        else:\n",
        "            print(\"Classe inválida. Tente novamente.\")\n",
        "\n",
        "    # Selecionando habilidades da classe\n",
        "    habilidades = random.sample(classes[classe], 3)\n",
        "\n",
        "    personagem = {\n",
        "        \"Nome\": nome,\n",
        "        \"Classe\": classe,\n",
        "        \"Atributos\": personagem_atributos,\n",
        "        \"Habilidades\": habilidades\n",
        "    }\n",
        "\n",
        "    return personagem\n",
        "\n",
        "\n",
        "if __name__ == \"__main__\":\n",
        "    # Perguntando se o personagem será criado de forma aleatória ou personalizada\n",
        "    tipo_criacao = input(\"Você quer criar um personagem aleatório ou personalizado? (aleatório/personalizado): \")\n",
        "    tipo_criacao = tipo_criacao.capitalize()\n",
        "    if tipo_criacao.lower() == \"aleatório\" or \"aleatorio\" :\n",
        "        genero = input(\"Escolha o gênero do personagem (masculino/feminino): \")\n",
        "        try:\n",
        "            personagem = gerar_personagem_aleatorio(genero)\n",
        "            print(\"Personagem Gerado:\")\n",
        "        except ValueError as e:\n",
        "            print(e)\n",
        "            exit(1)\n",
        "    elif tipo_criacao.lower() == \"personalizado\":\n",
        "        personagem = criar_personagem_personalizado()\n",
        "        print(\"Personagem Personalizado Criado:\")\n",
        "    else:\n",
        "        print(\"Opção inválida. Escolha 'aleatório' ou 'personalizado'.\")\n",
        "        exit(1)\n",
        "\n",
        "    print(f\"Nome: {personagem['Nome']}\")\n",
        "    print(f\"Classe: {personagem['Classe']}\")\n",
        "    print(\"Atributos:\")\n",
        "    for atributo, valor in personagem[\"Atributos\"].items():\n",
        "        print(f\"  {atributo}: {valor}\")\n",
        "    print(\"Habilidades:\")\n",
        "    for habilidade in personagem[\"Habilidades\"]:\n",
        "        print(f\"  {habilidade}\")"
      ],
      "metadata": {
        "colab": {
          "base_uri": "https://localhost:8080/"
        },
        "id": "DyEngz_y7o3g",
        "outputId": "1505cc88-abea-4d2e-d1a2-ae3b5dce1383"
      },
      "execution_count": 39,
      "outputs": [
        {
          "output_type": "stream",
          "name": "stdout",
          "text": [
            "Você quer criar um personagem aleatório ou personalizado? (aleatório/personalizado): aleatorio\n",
            "Escolha o gênero do personagem (masculino/feminino): masculino\n",
            "Personagem Gerado:\n",
            "Nome: Aiden\n",
            "Classe: Ladino\n",
            "Atributos:\n",
            "  Força: 3\n",
            "  Destreza: 3\n",
            "  Inteligência: 3\n",
            "  Constituição: 3\n",
            "  Carisma: 3\n",
            "  Sabedoria: 3\n",
            "Habilidades:\n",
            "  Evasão\n",
            "  Desarmar Armadilhas\n",
            "  Ataque Furtivo\n"
          ]
        }
      ]
    },
    {
      "cell_type": "code",
      "source": [],
      "metadata": {
        "id": "TuvpAp4IAj2g"
      },
      "execution_count": null,
      "outputs": []
    },
    {
      "cell_type": "markdown",
      "source": [
        "Dado de RPG"
      ],
      "metadata": {
        "id": "pIKsx6rkCI3s"
      }
    },
    {
      "cell_type": "code",
      "source": [
        "import random\n",
        "\n",
        "def rolar_dado(lados):\n",
        "    return random.randint(1, lados)\n",
        "\n",
        "def adicionar_pontos(resultado, pontos):\n",
        "    return resultado + pontos\n",
        "\n",
        "# Exemplo de uso\n",
        "lados_dado = int(input(\"Digite o número de lados do dado (ex: 6 para um d6): \"))\n",
        "pontos = int(input(\"Digite o número de pontos a serem adicionados: \"))\n",
        "\n",
        "resultado_dado = rolar_dado(lados_dado)\n",
        "resultado_final = adicionar_pontos(resultado_dado, pontos)\n",
        "\n",
        "if resultado_dado == lados_dado:\n",
        "  print(\"Critooo!!!\")\n",
        "print(f\"Resultado do dado: {resultado_dado}\")\n",
        "print(f\"Resultado final: {resultado_final}\")\n",
        "\n",
        ""
      ],
      "metadata": {
        "colab": {
          "base_uri": "https://localhost:8080/"
        },
        "id": "rKJb3H4ACX58",
        "outputId": "096e26b1-3299-454f-ff80-e4e4a3d0998d"
      },
      "execution_count": 46,
      "outputs": [
        {
          "output_type": "stream",
          "name": "stdout",
          "text": [
            "Digite o número de lados do dado (ex: 6 para um d6): 6\n",
            "Digite o número de pontos a serem adicionados: 0\n",
            "Resultado do dado: 1\n",
            "Resultado final: 1\n"
          ]
        }
      ]
    },
    {
      "cell_type": "code",
      "source": [],
      "metadata": {
        "id": "EVpiesQNDyJk"
      },
      "execution_count": null,
      "outputs": []
    }
  ]
}